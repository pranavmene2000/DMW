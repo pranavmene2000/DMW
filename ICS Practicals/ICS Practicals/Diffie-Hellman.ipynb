{
 "cells": [
  {
   "cell_type": "code",
   "execution_count": 1,
   "metadata": {},
   "outputs": [
    {
     "name": "stdin",
     "output_type": "stream",
     "text": [
      "Enter shared Prime(n): 7\n",
      "Enter shared Base(g): 2\n",
      "Enter Alice Secret Key(x): 43\n",
      "Enter Bob Secret Key(y): 5\n"
     ]
    },
    {
     "name": "stdout",
     "output_type": "stream",
     "text": [
      "Publicly Shared Variables:\n",
      "    Publicly Shared Prime:  7\n",
      "    Publicly Shared Base:   2\n",
      "\n",
      "  Alice Sends(A) Over Public Chanel:  2\n",
      "Bob Sends(B) Over Public Chanel:  4\n",
      "\n",
      "------------\n",
      "\n",
      "Privately Calculated Shared Secret:\n",
      "    Alice Shared Secret:  4\n",
      "    Bob Shared Secret:  4\n"
     ]
    }
   ],
   "source": [
    "#Diffie Hellman Key Exchange Alogorithm\n",
    "sharedPrime = int(input(\"Enter shared Prime(n):\"))\n",
    "sharedBase = int(input(\"Enter shared Base(g):\"))\n",
    "aliceSecret = int(input(\"Enter Alice Secret Key(x):\"))\n",
    "bobSecret = int(input(\"Enter Bob Secret Key(y):\"))\n",
    "print( \"Publicly Shared Variables:\")\n",
    "print( \"    Publicly Shared Prime: \" , sharedPrime )\n",
    "print( \"    Publicly Shared Base:  \" , sharedBase )\n",
    " \n",
    "# Alice Sends Bob A = g^x mod n\n",
    "A = (sharedBase**aliceSecret) % sharedPrime\n",
    "print( \"\\n  Alice Sends(A) Over Public Chanel: \" , A )\n",
    " \n",
    "# Bob Sends Alice B = g^y mod n\n",
    "B = (sharedBase ** bobSecret) % sharedPrime\n",
    "print(\"Bob Sends(B) Over Public Chanel: \", B )\n",
    " \n",
    "print( \"\\n------------\\n\" )\n",
    "print( \"Privately Calculated Shared Secret:\" )\n",
    "# Alice Computes Shared Secret: K1 = B^x mod n\n",
    "aliceSharedSecret = (B ** aliceSecret) % sharedPrime\n",
    "print( \"    Alice Shared Secret: \", aliceSharedSecret )\n",
    " \n",
    "# Bob Computes Shared Secret: K2 = A^y mod n\n",
    "bobSharedSecret = (A**bobSecret) % sharedPrime\n",
    "print( \"    Bob Shared Secret: \", bobSharedSecret )\n",
    "\n"
   ]
  },
  {
   "cell_type": "code",
   "execution_count": null,
   "metadata": {},
   "outputs": [],
   "source": []
  }
 ],
 "metadata": {
  "kernelspec": {
   "display_name": "Python 3",
   "language": "python",
   "name": "python3"
  },
  "language_info": {
   "codemirror_mode": {
    "name": "ipython",
    "version": 3
   },
   "file_extension": ".py",
   "mimetype": "text/x-python",
   "name": "python",
   "nbconvert_exporter": "python",
   "pygments_lexer": "ipython3",
   "version": "3.7.3"
  }
 },
 "nbformat": 4,
 "nbformat_minor": 2
}
