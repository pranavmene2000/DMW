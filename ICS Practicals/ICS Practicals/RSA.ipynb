{
 "cells": [
  {
   "cell_type": "code",
   "execution_count": 1,
   "metadata": {},
   "outputs": [
    {
     "name": "stdin",
     "output_type": "stream",
     "text": [
      "Enter prime p:  5\n",
      "Enter prime q:  7\n"
     ]
    },
    {
     "name": "stdout",
     "output_type": "stream",
     "text": [
      "Choosen primes:\n",
      "p=5, q=7\n",
      "\n",
      "n = p * q = 35\n",
      "\n",
      "Euler's function (totient) [phi(n)]: 24\n",
      "\n",
      "Choose an e from a below coprimes array:\n",
      "\n",
      "[7, 13, 19]\n",
      "\n"
     ]
    },
    {
     "name": "stdin",
     "output_type": "stream",
     "text": [
      " 19\n"
     ]
    },
    {
     "name": "stdout",
     "output_type": "stream",
     "text": [
      "\n",
      "Your public key is a pair of numbers (e=19, n=35).\n",
      "\n",
      "Your private key is a pair of numbers (d=19, n=35).\n",
      "\n"
     ]
    },
    {
     "name": "stdin",
     "output_type": "stream",
     "text": [
      "Enter a message to encrypt:  345\n"
     ]
    },
    {
     "name": "stdout",
     "output_type": "stream",
     "text": [
      "\n",
      "Plain message: 345\n",
      "\n",
      "Encrypted message:  \u0010\u0003  \n",
      "\n",
      "Decrypted message: \u0010\u0011\u0012\n",
      "\n"
     ]
    }
   ],
   "source": [
    "def gcd(a, b): # calculates GCD of a and d\n",
    "    while b != 0:\n",
    "        c = a % b\n",
    "        a = b\n",
    "        b = c\n",
    "    return a\n",
    "\n",
    "\n",
    "def modinv(a, m): # calculates modulo inverse of a for mod m\n",
    "    for x in range(1, m):\n",
    "        if (a * x) % m == 1:\n",
    "            return x\n",
    "    return None\n",
    "\n",
    "\n",
    "def coprimes(a): # calculates all possible co-prime numbers with a\n",
    "    l = []\n",
    "    for x in range(2, a):\n",
    "        if gcd(a, x) == 1 and modinv(x, phi) != None:\n",
    "            l.append(x)\n",
    "    for x in l:\n",
    "        if x == modinv(x, phi):\n",
    "            l.remove(x)\n",
    "    return l\n",
    "\n",
    "def encrypt_block(m): # encrypts a single block\n",
    "    c = m ** e % n\n",
    "    return c\n",
    "\n",
    "\n",
    "def decrypt_block(c): # decrypts a single block\n",
    "    m = c ** d % n\n",
    "    return m\n",
    "\n",
    "\n",
    "def encrypt_string(s): # applies encryption\n",
    "    return ''.join([chr(encrypt_block(ord(x))) for x in list(s)])\n",
    "\n",
    "\n",
    "def decrypt_string(s): # applies decryption\n",
    "    return ''.join([chr(decrypt_block(ord(x))) for x in list(s)])\n",
    "\n",
    "if __name__ == \"__main__\":\n",
    "    p = int(input('Enter prime p: '))\n",
    "    q = int(input('Enter prime q: '))\n",
    "\n",
    "    print(\"Choosen primes:\\np=\" + str(p) + \", q=\" + str(q) + \"\\n\")\n",
    "\n",
    "    n = p * q\n",
    "    print(\"n = p * q = \" + str(n) + \"\\n\")\n",
    "\n",
    "    phi = (p - 1) * (q - 1)\n",
    "    print(\"Euler's function (totient) [phi(n)]: \" + str(phi) + \"\\n\")\n",
    "\n",
    "    print(\"Choose an e from a below coprimes array:\\n\")\n",
    "    print(str(coprimes(phi)) + \"\\n\")\n",
    "    e = int(input())\n",
    "\n",
    "    d = modinv(e, phi) # calculates the decryption key d\n",
    "\n",
    "    print(\"\\nYour public key is a pair of numbers (e=\" + str(e) + \", n=\" + str(n) + \").\\n\")\n",
    "    print(\"Your private key is a pair of numbers (d=\" + str(d) + \", n=\" + str(n) + \").\\n\")\n",
    "\n",
    "    s = input(\"Enter a message to encrypt: \")\n",
    "    print(\"\\nPlain message: \" + s + \"\\n\")\n",
    "    enc = encrypt_string(s)\n",
    "    print(\"Encrypted message: \", enc, \"\\n\")\n",
    "    dec = decrypt_string(enc)\n",
    "    print(\"Decrypted message: \" + dec + \"\\n\")\n",
    "                        \n",
    "\n"
   ]
  },
  {
   "cell_type": "markdown",
   "metadata": {},
   "source": [
    "##### "
   ]
  }
 ],
 "metadata": {
  "kernelspec": {
   "display_name": "Python 3",
   "language": "python",
   "name": "python3"
  },
  "language_info": {
   "codemirror_mode": {
    "name": "ipython",
    "version": 3
   },
   "file_extension": ".py",
   "mimetype": "text/x-python",
   "name": "python",
   "nbconvert_exporter": "python",
   "pygments_lexer": "ipython3",
   "version": "3.7.3"
  }
 },
 "nbformat": 4,
 "nbformat_minor": 2
}
