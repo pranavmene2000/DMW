{
  "nbformat": 4,
  "nbformat_minor": 0,
  "metadata": {
    "colab": {
      "name": "MLASSIGNMENT2.ipynb",
      "provenance": []
    },
    "kernelspec": {
      "name": "python3",
      "display_name": "Python 3"
    },
    "language_info": {
      "name": "python"
    }
  },
  "cells": [
    {
      "cell_type": "code",
      "execution_count": 1,
      "metadata": {
        "colab": {
          "base_uri": "https://localhost:8080/"
        },
        "id": "ZXqCb0_r0h6N",
        "outputId": "f9ec636b-3a9a-47d6-8fef-1cf0e032c1f0"
      },
      "outputs": [
        {
          "output_type": "stream",
          "name": "stdout",
          "text": [
            "X\n",
            "Prediction: ['Yes']\n"
          ]
        },
        {
          "output_type": "stream",
          "name": "stderr",
          "text": [
            "/usr/local/lib/python3.7/dist-packages/sklearn/base.py:451: UserWarning: X does not have valid feature names, but DecisionTreeClassifier was fitted with feature names\n",
            "  \"X does not have valid feature names, but\"\n"
          ]
        }
      ],
      "source": [
        "import pandas as pd\n",
        "import numpy as np\n",
        "\n",
        "#reading Dataset\n",
        "dataset=pd.read_csv(\"data.csv\")\n",
        "X=dataset.iloc[:,:-1]\n",
        "y=dataset.iloc[:,5]\n",
        "\n",
        "#Perform Label encoding\n",
        "from sklearn.preprocessing import LabelEncoder\n",
        "le=LabelEncoder()\n",
        "\n",
        "X=X.apply(le.fit_transform)\n",
        "print(\"X\")\n",
        "\n",
        "from sklearn.tree import DecisionTreeClassifier\n",
        "regressor=DecisionTreeClassifier()\n",
        "regressor.fit(X.iloc[:,1:5],y)\n",
        "\n",
        "#Predict value for the given Expression\n",
        "X_in=np.array([1,1,0,0])\n",
        "y_pred=regressor.predict([X_in])\n",
        "print(\"Prediction:\", y_pred)\n"
      ]
    },
    {
      "cell_type": "code",
      "source": [
        "from six import StringIO\n",
        "#from sklearn.externals.six import StringIO\n",
        "from IPython.display import Image\n",
        "from sklearn.tree import export_graphviz\n",
        "import pydotplus\n",
        "\n",
        "dot_data=StringIO()\n",
        "\n",
        "export_graphviz(regressor,out_file=dot_data,filled=True,rounded=True,special_characters=True)\n",
        "graph=pydotplus.graph_from_dot_data(dot_data.getvalue())\n",
        "graph.write_png('tree.png')"
      ],
      "metadata": {
        "colab": {
          "base_uri": "https://localhost:8080/"
        },
        "id": "SdYxZ8G30oOF",
        "outputId": "3fb40182-387a-47f2-b3e5-ad65e039fd4a"
      },
      "execution_count": 4,
      "outputs": [
        {
          "output_type": "execute_result",
          "data": {
            "text/plain": [
              "True"
            ]
          },
          "metadata": {},
          "execution_count": 4
        }
      ]
    }
  ]
}